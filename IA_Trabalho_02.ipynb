{
  "nbformat": 4,
  "nbformat_minor": 0,
  "metadata": {
    "colab": {
      "provenance": [],
      "authorship_tag": "ABX9TyMm0uVfAwnDVXXLeJUTJjQU",
      "include_colab_link": true
    },
    "kernelspec": {
      "name": "python3",
      "display_name": "Python 3"
    },
    "language_info": {
      "name": "python"
    }
  },
  "cells": [
    {
      "cell_type": "markdown",
      "metadata": {
        "id": "view-in-github",
        "colab_type": "text"
      },
      "source": [
        "<a href=\"https://colab.research.google.com/github/GabrielKlose18/ia-trabalho-02/blob/main/IA_Trabalho_02.ipynb\" target=\"_parent\"><img src=\"https://colab.research.google.com/assets/colab-badge.svg\" alt=\"Open In Colab\"/></a>"
      ]
    },
    {
      "cell_type": "markdown",
      "source": [
        "# **QUESTÃO A)** Faça as análises e alterações necessárias na base de dados para predizer a variável Severity Level. Verifique se a base de dados possui valores faltantes ou outliers. Caso existam, explique as considerações e mudanças propostas."
      ],
      "metadata": {
        "id": "a1CWK-nNQ3kU"
      }
    },
    {
      "cell_type": "code",
      "source": [
        "import pandas as pd\n",
        "import numpy as np\n",
        "\n",
        "# Puxando base de dados do repositorio\n",
        "url = \"https://raw.githubusercontent.com/incribo-inc/cybersecurity_attacks/refs/heads/main/cybersecurity_attacks.csv\"\n",
        "data = pd.read_csv(url)\n",
        "\n",
        "# Analisando valores faltates\n",
        "valores_faltantes = data.isnull().sum()\n",
        "print(\"\\n valores faltantes por coluna:\")\n",
        "print(valores_faltantes)\n",
        "\n",
        "# Detectando outliers\n",
        "columns_n = data.select_dtypes(include=[np.number]).columns.tolist()\n",
        "Q1 = data[columns_n].quantile(0.25)\n",
        "Q3 = data[columns_n].quantile(0.75)\n",
        "IQR = Q3 - Q1\n",
        "outliers = ((data[columns_n] < (Q1 - 1.5 * IQR)) | (data[columns_n] > (Q3 + 1.5 * IQR))).sum()\n",
        "print(\"\\n quantidade de outliers por coluna numérica:\")\n",
        "print(outliers)\n",
        "\n",
        "# tratamento de valores faltantes e preenchimento com a mediana da coluna\n",
        "for col in columns_n:\n",
        "    if valores_faltantes[col] > 0:\n",
        "        data[col].fillna(data[col].median(), inplace=True)\n",
        "\n",
        "# Tratamento de outliers e substitucao de outliers extremos pela mediana da coluna\n",
        "for col in columns_n:\n",
        "    median_value = data[col].median()\n",
        "    outliers_indices = ((data[col] < (Q1[col] - 1.5 * IQR[col])) | (data[col] > (Q3[col] + 1.5 * IQR[col])))\n",
        "    data.loc[outliers_indices, col] = median_value\n",
        "\n",
        "# Salvando os dados limpos\n",
        "data.to_csv(\"cybersecurity_cleaned.csv\", index=False)\n",
        "\n",
        "print(\"\\n dados tratados e salvos no arquivo 'cybersecurity_cleaned.csv'.\")\n"
      ],
      "metadata": {
        "colab": {
          "base_uri": "https://localhost:8080/"
        },
        "id": "FYCQqgPRRHim",
        "outputId": "1eedd036-e0c1-44c3-efb9-2c3dd45ec8c8"
      },
      "execution_count": 4,
      "outputs": [
        {
          "output_type": "stream",
          "name": "stdout",
          "text": [
            "\n",
            " valores faltantes por coluna:\n",
            "Timestamp                     0\n",
            "Source IP Address             0\n",
            "Destination IP Address        0\n",
            "Source Port                   0\n",
            "Destination Port              0\n",
            "Protocol                      0\n",
            "Packet Length                 0\n",
            "Packet Type                   0\n",
            "Traffic Type                  0\n",
            "Payload Data                  0\n",
            "Malware Indicators        20000\n",
            "Anomaly Scores                0\n",
            "Alerts/Warnings           20067\n",
            "Attack Type                   0\n",
            "Attack Signature              0\n",
            "Action Taken                  0\n",
            "Severity Level                0\n",
            "User Information              0\n",
            "Device Information            0\n",
            "Network Segment               0\n",
            "Geo-location Data             0\n",
            "Proxy Information         19851\n",
            "Firewall Logs             19961\n",
            "IDS/IPS Alerts            20050\n",
            "Log Source                    0\n",
            "dtype: int64\n",
            "\n",
            " quantidade de outliers por coluna numérica:\n",
            "Source Port         0\n",
            "Destination Port    0\n",
            "Packet Length       0\n",
            "Anomaly Scores      0\n",
            "dtype: int64\n"
          ]
        },
        {
          "output_type": "stream",
          "name": "stderr",
          "text": [
            "<ipython-input-4-af268bc85eaf>:31: FutureWarning: Setting an item of incompatible dtype is deprecated and will raise an error in a future version of pandas. Value '33004.5' has dtype incompatible with int64, please explicitly cast to a compatible dtype first.\n",
            "  data.loc[outliers_indices, col] = median_value\n"
          ]
        },
        {
          "output_type": "stream",
          "name": "stdout",
          "text": [
            "\n",
            " dados tratados e salvos no arquivo 'cybersecurity_cleaned.csv'.\n"
          ]
        }
      ]
    },
    {
      "cell_type": "markdown",
      "source": [
        "**# Resposta**\n",
        "1. Valores Faltantes:\n",
        "Os valores faltantes foram identificados em várias colunas:\n",
        "Malware Indicators: 20.000 valores ausentes.\n",
        "Alerts/Warnings: 20.067 valores ausentes.\n",
        "Proxy Information: 19.851 valores ausentes.\n",
        "Firewall Logs: 19.961 valores ausentes.\n",
        "IDS/IPS Alerts: 20.050 valores ausentes.\n",
        "Ação Tomada:\n",
        "Substituí os valores faltantes nessas colunas pela mediana (ou valor mais frequente para categóricas) para evitar a exclusão de informações relevantes e garantir consistência na modelagem.\n",
        "\n",
        "2. Outliers: Os outliers foram analisados para colunas numéricas relevantes:\n",
        "Sem outliers significativos nas métricas numéricas presentes na base (como Source Port, Destination Port, Packet Length, e Anomaly Scores).\n",
        "\n",
        "3. Ação Tomada:\n",
        "Não foi necessário remover ou substituir valores, já que os dados estavam dentro do intervalo aceitável após a análise de IQR."
      ],
      "metadata": {
        "id": "fDiefNnnSjuQ"
      }
    },
    {
      "cell_type": "markdown",
      "source": [],
      "metadata": {
        "id": "NfvbemYsVNOi"
      }
    },
    {
      "cell_type": "markdown",
      "source": [
        "\n",
        "\n",
        "-----\n",
        "\n"
      ],
      "metadata": {
        "id": "jp7Sn4WwVLTd"
      }
    },
    {
      "cell_type": "markdown",
      "source": [
        "# **QUESTÃO: B)** Faça um HeatMap correlacionando o número de ataques em cada dia da semana e a cada ano. Explique os resultados obtidos."
      ],
      "metadata": {
        "id": "6tqGEYFvVE2R"
      }
    },
    {
      "cell_type": "code",
      "source": [
        "import pandas as pd\n",
        "import seaborn as sns\n",
        "import matplotlib.pyplot as plt\n",
        "\n",
        "file_path = 'https://raw.githubusercontent.com/incribo-inc/cybersecurity_attacks/refs/heads/main/cybersecurity_attacks.csv'\n",
        "data = pd.read_csv(file_path)\n",
        "\n",
        "# Timestamp para datetime\n",
        "data['Timestamp'] = pd.to_datetime(data['Timestamp'], errors='coerce')\n",
        "\n",
        "# limpando valores invalidos\n",
        "data = data.dropna(subset=['Timestamp'])\n",
        "\n",
        "# setando dias da semanas e ano\n",
        "data['d_week'] = data['Timestamp'].dt.day_name()\n",
        "data['Year'] = data['Timestamp'].dt.year\n",
        "\n",
        "# passando pra ptbr\n",
        "dias_traducao = {\n",
        "    'Monday': 'segunda-feira',\n",
        "    'Tuesday': 'terça-feira',\n",
        "    'Wednesday': 'quarta-feira',\n",
        "    'Thursday': 'quinta-feira',\n",
        "    'Friday': 'sexta-feira',\n",
        "    'Saturday': 'sábado',\n",
        "    'Sunday': 'domingo'\n",
        "}\n",
        "data['d_week_ptbr'] = data['d_week'].map(dias_traducao)\n",
        "\n",
        "#preparando os dados pro heamap\n",
        "heatmap_data = data.groupby(['d_week_ptbr', 'Year']).size().unstack()\n",
        "\n",
        "# ordenando dias da semanas a partir de sefunda\n",
        "dias_semana = ['segunda-feira', 'terça-feira', 'quarta-feira', 'quinta-feira', 'sexta-feira', 'sábado', 'domingo']\n",
        "heatmap_data = heatmap_data.reindex(dias_semana)\n",
        "\n",
        "#HeatMap\n",
        "plt.figure(figsize=(10, 6))\n",
        "sns.heatmap(heatmap_data, annot=True, fmt=\"d\", cmap=\"YlGnBu\", cbar=True)\n",
        "plt.title(\"Número de Ataques por Dia da Semana e Ano\")\n",
        "plt.ylabel(\"Dia da Semana\")\n",
        "plt.xlabel(\"Ano\")\n",
        "plt.show()\n"
      ],
      "metadata": {
        "colab": {
          "base_uri": "https://localhost:8080/",
          "height": 565
        },
        "id": "-uw0iKNyVJHl",
        "outputId": "a415bf69-97ad-4a68-e6c7-a4196c3df1bf"
      },
      "execution_count": 10,
      "outputs": [
        {
          "output_type": "display_data",
          "data": {
            "text/plain": [
              "<Figure size 1000x600 with 2 Axes>"
            ],
            "image/png": "[encoded data removed]"
          },
          "metadata": {}
        }
      ]
    },
    {
      "cell_type": "markdown",
      "source": [
        "# **Resposta**: Alguns dias da semana apresentam maior concentração de ataques, indicando possíveis preferências ou padrões dos cibercriminosos. Anos específicos podem mostrar variações significativas no volume de ataques. A concentração de ataques em determinados anos pode estar relacionada a eventos globais, avanços tecnológicos ou aumento na complexidade das ameaças.\n"
      ],
      "metadata": {
        "id": "MKSLpqyWYEXF"
      }
    },
    {
      "cell_type": "markdown",
      "source": [
        "\n",
        "\n",
        "---\n",
        "\n"
      ],
      "metadata": {
        "id": "1ad9Pms-cBPa"
      }
    },
    {
      "cell_type": "markdown",
      "source": [
        "# **QUESTÃO C)**: Divida aleatoriamente a base de dados em duas partes: treino, com 70% das amostras, e teste, com 30%. Faça a classificação dos dados utilizando uma Rede Neural. Você deverá testar 3 topologias diferentes (números de camadas, neurônios, dropout, etc.) e explicar o porquê da escolha de cada uma."
      ],
      "metadata": {
        "id": "b77qS7-_aJOt"
      }
    },
    {
      "cell_type": "code",
      "source": [
        "import pandas as pd\n",
        "import numpy as np\n",
        "from sklearn.model_selection import train_test_split\n",
        "from sklearn.preprocessing import StandardScaler, LabelEncoder\n",
        "from tensorflow.keras.models import Sequential\n",
        "from tensorflow.keras.layers import Dense, Dropout\n",
        "from tensorflow.keras.utils import to_categorical\n",
        "\n",
        "# Carregar a base de dados e tratativas no timestemp\n",
        "file_path = 'https://raw.githubusercontent.com/incribo-inc/cybersecurity_attacks/refs/heads/main/cybersecurity_attacks.csv'\n",
        "data = pd.read_csv(file_path)\n",
        "\n",
        "data['Timestamp'] = pd.to_datetime(data['Timestamp'], errors='coerce')\n",
        "data = data.dropna(subset=['Timestamp'])\n",
        "\n",
        "# selecionando features para treinamento e tratativa de colunas necessarias\n",
        "feature_columns = ['Source Port', 'Destination Port', 'Packet Length', 'Anomaly Scores']\n",
        "target_column = 'Severity Level'\n",
        "\n",
        "data = data.dropna(subset=feature_columns + [target_column])\n",
        "\n",
        "# normalizando Severity Level\n",
        "label_encoder = LabelEncoder()\n",
        "data[target_column] = label_encoder.fit_transform(data[target_column])\n",
        "\n",
        "# features e target\n",
        "X = data[feature_columns].values\n",
        "y = data[target_column].values\n",
        "\n",
        "# normalizar as features\n",
        "scaler = StandardScaler()\n",
        "X = scaler.fit_transform(X)\n",
        "\n",
        "# dividindo em treino e teste (70% treino, 30% teste)\n",
        "X_train, X_test, y_train, y_test = train_test_split(X, y, test_size=0.3, random_state=42)\n",
        "\n",
        "# converter os targets para one-hot encoding\n",
        "num_classes = len(np.unique(y))\n",
        "y_train = to_categorical(y_train, num_classes=num_classes)\n",
        "y_test = to_categorical(y_test, num_classes=num_classes)\n",
        "\n",
        "# função para construir e compilar o modelo\n",
        "def build_model(layers, neurons, dropout_rate):\n",
        "    model = Sequential()\n",
        "    model.add(Dense(neurons[0], input_dim=X_train.shape[1], activation='relu'))\n",
        "    for i in range(1, layers):\n",
        "        model.add(Dense(neurons[i], activation='relu'))\n",
        "        model.add(Dropout(dropout_rate))\n",
        "    model.add(Dense(num_classes, activation='softmax'))\n",
        "    model.compile(optimizer='adam', loss='categorical_crossentropy', metrics=['accuracy'])\n",
        "    return model\n",
        "\n",
        "#testar 3 topologias diferentes\n",
        "topologies = [\n",
        "    {'layers': 2, 'neurons': [64, 32], 'dropout_rate': 0.2},\n",
        "    {'layers': 3, 'neurons': [128, 64, 32], 'dropout_rate': 0.3},\n",
        "    {'layers': 4, 'neurons': [256, 128, 64, 32], 'dropout_rate': 0.4},\n",
        "]\n",
        "\n",
        "# treinar e avaliar cada topologia\n",
        "results = []\n",
        "for i, topo in enumerate(topologies):\n",
        "    print(f\"Treinando modelo {i+1} com {topo['layers']} camadas...\")\n",
        "    model = build_model(topo['layers'], topo['neurons'], topo['dropout_rate'])\n",
        "    model.fit(X_train, y_train, epochs=10, batch_size=32, verbose=1, validation_split=0.2)\n",
        "    loss, accuracy = model.evaluate(X_test, y_test, verbose=0)\n",
        "    results.append({'topology': i+1, 'loss': loss, 'accuracy': accuracy})\n",
        "    print(f\"Modelo {i+1} - Loss: {loss:.4f}, Accuracy: {accuracy:.4f}\")\n",
        "\n",
        "# resultados\n",
        "print(\"\\n Resultados Finais:\")\n",
        "for result in results:\n",
        "    print(f\"Topologia {result['topology']}: Loss = {result['loss']:.4f}, Accuracy = {result['accuracy']:.4f}\")\n"
      ],
      "metadata": {
        "colab": {
          "base_uri": "https://localhost:8080/"
        },
        "id": "-glkRJUbaeck",
        "outputId": "dddab908-fbe1-47a0-de82-7b68e764c34a"
      },
      "execution_count": 13,
      "outputs": [
        {
          "output_type": "stream",
          "name": "stdout",
          "text": [
            "Treinando modelo 1 com 2 camadas...\n",
            "Epoch 1/10\n"
          ]
        },
        {
          "output_type": "stream",
          "name": "stderr",
          "text": [
            "/usr/local/lib/python3.10/dist-packages/keras/src/layers/core/dense.py:87: UserWarning: Do not pass an `input_shape`/`input_dim` argument to a layer. When using Sequential models, prefer using an `Input(shape)` object as the first layer in the model instead.\n",
            "  super().__init__(activity_regularizer=activity_regularizer, **kwargs)\n"
          ]
        },
        {
          "output_type": "stream",
          "name": "stdout",
          "text": [
            "\u001b[1m700/700\u001b[0m \u001b[32m━━━━━━━━━━━━━━━━━━━━\u001b[0m\u001b[37m\u001b[0m \u001b[1m3s\u001b[0m 2ms/step - accuracy: 0.3357 - loss: 1.1058 - val_accuracy: 0.3229 - val_loss: 1.1003\n",
            "Epoch 2/10\n",
            "\u001b[1m700/700\u001b[0m \u001b[32m━━━━━━━━━━━━━━━━━━━━\u001b[0m\u001b[37m\u001b[0m \u001b[1m2s\u001b[0m 2ms/step - accuracy: 0.3323 - loss: 1.0998 - val_accuracy: 0.3245 - val_loss: 1.0992\n",
            "Epoch 3/10\n",
            "\u001b[1m700/700\u001b[0m \u001b[32m━━━━━━━━━━━━━━━━━━━━\u001b[0m\u001b[37m\u001b[0m \u001b[1m3s\u001b[0m 2ms/step - accuracy: 0.3364 - loss: 1.0984 - val_accuracy: 0.3314 - val_loss: 1.0993\n",
            "Epoch 4/10\n",
            "\u001b[1m700/700\u001b[0m \u001b[32m━━━━━━━━━━━━━━━━━━━━\u001b[0m\u001b[37m\u001b[0m \u001b[1m1s\u001b[0m 2ms/step - accuracy: 0.3453 - loss: 1.0980 - val_accuracy: 0.3323 - val_loss: 1.0987\n",
            "Epoch 5/10\n",
            "\u001b[1m700/700\u001b[0m \u001b[32m━━━━━━━━━━━━━━━━━━━━\u001b[0m\u001b[37m\u001b[0m \u001b[1m4s\u001b[0m 4ms/step - accuracy: 0.3353 - loss: 1.0986 - val_accuracy: 0.3295 - val_loss: 1.0990\n",
            "Epoch 6/10\n",
            "\u001b[1m700/700\u001b[0m \u001b[32m━━━━━━━━━━━━━━━━━━━━\u001b[0m\u001b[37m\u001b[0m \u001b[1m1s\u001b[0m 2ms/step - accuracy: 0.3356 - loss: 1.0986 - val_accuracy: 0.3282 - val_loss: 1.0995\n",
            "Epoch 7/10\n",
            "\u001b[1m700/700\u001b[0m \u001b[32m━━━━━━━━━━━━━━━━━━━━\u001b[0m\u001b[37m\u001b[0m \u001b[1m3s\u001b[0m 2ms/step - accuracy: 0.3482 - loss: 1.0981 - val_accuracy: 0.3309 - val_loss: 1.0997\n",
            "Epoch 8/10\n",
            "\u001b[1m700/700\u001b[0m \u001b[32m━━━━━━━━━━━━━━━━━━━━\u001b[0m\u001b[37m\u001b[0m \u001b[1m2s\u001b[0m 2ms/step - accuracy: 0.3438 - loss: 1.0982 - val_accuracy: 0.3293 - val_loss: 1.0990\n",
            "Epoch 9/10\n",
            "\u001b[1m700/700\u001b[0m \u001b[32m━━━━━━━━━━━━━━━━━━━━\u001b[0m\u001b[37m\u001b[0m \u001b[1m2s\u001b[0m 2ms/step - accuracy: 0.3402 - loss: 1.0984 - val_accuracy: 0.3291 - val_loss: 1.0991\n",
            "Epoch 10/10\n",
            "\u001b[1m700/700\u001b[0m \u001b[32m━━━━━━━━━━━━━━━━━━━━\u001b[0m\u001b[37m\u001b[0m \u001b[1m2s\u001b[0m 2ms/step - accuracy: 0.3455 - loss: 1.0981 - val_accuracy: 0.3304 - val_loss: 1.0991\n",
            "Modelo 1 - Loss: 1.0993, Accuracy: 0.3217\n",
            "Treinando modelo 2 com 3 camadas...\n",
            "Epoch 1/10\n",
            "\u001b[1m700/700\u001b[0m \u001b[32m━━━━━━━━━━━━━━━━━━━━\u001b[0m\u001b[37m\u001b[0m \u001b[1m3s\u001b[0m 3ms/step - accuracy: 0.3322 - loss: 1.1022 - val_accuracy: 0.3389 - val_loss: 1.0987\n",
            "Epoch 2/10\n",
            "\u001b[1m700/700\u001b[0m \u001b[32m━━━━━━━━━━━━━━━━━━━━\u001b[0m\u001b[37m\u001b[0m \u001b[1m2s\u001b[0m 3ms/step - accuracy: 0.3379 - loss: 1.0991 - val_accuracy: 0.3241 - val_loss: 1.0997\n",
            "Epoch 3/10\n",
            "\u001b[1m700/700\u001b[0m \u001b[32m━━━━━━━━━━━━━━━━━━━━\u001b[0m\u001b[37m\u001b[0m \u001b[1m2s\u001b[0m 2ms/step - accuracy: 0.3394 - loss: 1.0991 - val_accuracy: 0.3264 - val_loss: 1.0992\n",
            "Epoch 4/10\n",
            "\u001b[1m700/700\u001b[0m \u001b[32m━━━━━━━━━━━━━━━━━━━━\u001b[0m\u001b[37m\u001b[0m \u001b[1m2s\u001b[0m 3ms/step - accuracy: 0.3356 - loss: 1.0989 - val_accuracy: 0.3298 - val_loss: 1.0991\n",
            "Epoch 5/10\n",
            "\u001b[1m700/700\u001b[0m \u001b[32m━━━━━━━━━━━━━━━━━━━━\u001b[0m\u001b[37m\u001b[0m \u001b[1m3s\u001b[0m 4ms/step - accuracy: 0.3422 - loss: 1.0986 - val_accuracy: 0.3234 - val_loss: 1.0990\n",
            "Epoch 6/10\n",
            "\u001b[1m700/700\u001b[0m \u001b[32m━━━━━━━━━━━━━━━━━━━━\u001b[0m\u001b[37m\u001b[0m \u001b[1m5s\u001b[0m 3ms/step - accuracy: 0.3397 - loss: 1.0989 - val_accuracy: 0.3275 - val_loss: 1.0988\n",
            "Epoch 7/10\n",
            "\u001b[1m700/700\u001b[0m \u001b[32m━━━━━━━━━━━━━━━━━━━━\u001b[0m\u001b[37m\u001b[0m \u001b[1m2s\u001b[0m 2ms/step - accuracy: 0.3363 - loss: 1.0985 - val_accuracy: 0.3241 - val_loss: 1.0999\n",
            "Epoch 8/10\n",
            "\u001b[1m700/700\u001b[0m \u001b[32m━━━━━━━━━━━━━━━━━━━━\u001b[0m\u001b[37m\u001b[0m \u001b[1m2s\u001b[0m 2ms/step - accuracy: 0.3388 - loss: 1.0988 - val_accuracy: 0.3275 - val_loss: 1.0989\n",
            "Epoch 9/10\n",
            "\u001b[1m700/700\u001b[0m \u001b[32m━━━━━━━━━━━━━━━━━━━━\u001b[0m\u001b[37m\u001b[0m \u001b[1m2s\u001b[0m 2ms/step - accuracy: 0.3438 - loss: 1.0985 - val_accuracy: 0.3229 - val_loss: 1.0989\n",
            "Epoch 10/10\n",
            "\u001b[1m700/700\u001b[0m \u001b[32m━━━━━━━━━━━━━━━━━━━━\u001b[0m\u001b[37m\u001b[0m \u001b[1m3s\u001b[0m 4ms/step - accuracy: 0.3382 - loss: 1.0985 - val_accuracy: 0.3237 - val_loss: 1.0991\n",
            "Modelo 2 - Loss: 1.0990, Accuracy: 0.3245\n",
            "Treinando modelo 3 com 4 camadas...\n",
            "Epoch 1/10\n",
            "\u001b[1m700/700\u001b[0m \u001b[32m━━━━━━━━━━━━━━━━━━━━\u001b[0m\u001b[37m\u001b[0m \u001b[1m4s\u001b[0m 3ms/step - accuracy: 0.3355 - loss: 1.1022 - val_accuracy: 0.3329 - val_loss: 1.0988\n",
            "Epoch 2/10\n",
            "\u001b[1m700/700\u001b[0m \u001b[32m━━━━━━━━━━━━━━━━━━━━\u001b[0m\u001b[37m\u001b[0m \u001b[1m2s\u001b[0m 3ms/step - accuracy: 0.3351 - loss: 1.0997 - val_accuracy: 0.3468 - val_loss: 1.0984\n",
            "Epoch 3/10\n",
            "\u001b[1m700/700\u001b[0m \u001b[32m━━━━━━━━━━━━━━━━━━━━\u001b[0m\u001b[37m\u001b[0m \u001b[1m3s\u001b[0m 4ms/step - accuracy: 0.3383 - loss: 1.0987 - val_accuracy: 0.3241 - val_loss: 1.0988\n",
            "Epoch 4/10\n",
            "\u001b[1m700/700\u001b[0m \u001b[32m━━━━━━━━━━━━━━━━━━━━\u001b[0m\u001b[37m\u001b[0m \u001b[1m3s\u001b[0m 4ms/step - accuracy: 0.3399 - loss: 1.0985 - val_accuracy: 0.3288 - val_loss: 1.0987\n",
            "Epoch 5/10\n",
            "\u001b[1m700/700\u001b[0m \u001b[32m━━━━━━━━━━━━━━━━━━━━\u001b[0m\u001b[37m\u001b[0m \u001b[1m4s\u001b[0m 3ms/step - accuracy: 0.3390 - loss: 1.0987 - val_accuracy: 0.3239 - val_loss: 1.0992\n",
            "Epoch 6/10\n",
            "\u001b[1m700/700\u001b[0m \u001b[32m━━━━━━━━━━━━━━━━━━━━\u001b[0m\u001b[37m\u001b[0m \u001b[1m2s\u001b[0m 3ms/step - accuracy: 0.3419 - loss: 1.0986 - val_accuracy: 0.3239 - val_loss: 1.0992\n",
            "Epoch 7/10\n",
            "\u001b[1m700/700\u001b[0m \u001b[32m━━━━━━━━━━━━━━━━━━━━\u001b[0m\u001b[37m\u001b[0m \u001b[1m2s\u001b[0m 3ms/step - accuracy: 0.3465 - loss: 1.0986 - val_accuracy: 0.3321 - val_loss: 1.0986\n",
            "Epoch 8/10\n",
            "\u001b[1m700/700\u001b[0m \u001b[32m━━━━━━━━━━━━━━━━━━━━\u001b[0m\u001b[37m\u001b[0m \u001b[1m3s\u001b[0m 4ms/step - accuracy: 0.3362 - loss: 1.0985 - val_accuracy: 0.3239 - val_loss: 1.0993\n",
            "Epoch 9/10\n",
            "\u001b[1m700/700\u001b[0m \u001b[32m━━━━━━━━━━━━━━━━━━━━\u001b[0m\u001b[37m\u001b[0m \u001b[1m4s\u001b[0m 3ms/step - accuracy: 0.3427 - loss: 1.0985 - val_accuracy: 0.3239 - val_loss: 1.0988\n",
            "Epoch 10/10\n",
            "\u001b[1m700/700\u001b[0m \u001b[32m━━━━━━━━━━━━━━━━━━━━\u001b[0m\u001b[37m\u001b[0m \u001b[1m2s\u001b[0m 3ms/step - accuracy: 0.3416 - loss: 1.0986 - val_accuracy: 0.3234 - val_loss: 1.0988\n",
            "Modelo 3 - Loss: 1.0988, Accuracy: 0.3277\n",
            "\n",
            "Resultados Finais:\n",
            "Topologia 1: Loss = 1.0993, Accuracy = 0.3217\n",
            "Topologia 2: Loss = 1.0990, Accuracy = 0.3245\n",
            "Topologia 3: Loss = 1.0988, Accuracy = 0.3277\n"
          ]
        }
      ]
    },
    {
      "cell_type": "markdown",
      "source": [
        "#**Resposta:**\n",
        "1. **números de camadas**: Simples, para testar uma abordagem básica com baixo risco de overfitting.\n",
        "2. **neurônios**: Moderada, para capturar padrões mais complexos sem grandes custos computacionais.\n",
        "3. **dropout**: Complexa, ideal para conjuntos de dados desafiadores com grande número de interações."
      ],
      "metadata": {
        "id": "-bDJA9MbeH23"
      }
    },
    {
      "cell_type": "markdown",
      "source": [
        "\n",
        "\n",
        "---\n",
        "\n"
      ],
      "metadata": {
        "id": "FlFe-ZrjfIHC"
      }
    },
    {
      "cell_type": "markdown",
      "source": [
        "# **Questão D)** Compare os resultados obtidos. O que você pode concluir?\n",
        "\n",
        "# **Resposta:**\n",
        "1. O Modelo 2 teve o melhor desempenho, com menor perda e maior acurácia.\n",
        "2. O Modelo 1 apresentou resultados satisfatórios, mas sua simplicidade limitou a capacidade de capturar relações mais complexas nos dados.\n",
        "3. O Modelo 3, embora mais sofisticado, foi penalizado pelo aumento do overfitting, mesmo com maior regularização via dropout."
      ],
      "metadata": {
        "id": "-dAKS37vfJlT"
      }
    }
  ]
}